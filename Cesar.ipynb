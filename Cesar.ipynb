{
 "cells": [
  {
   "cell_type": "code",
   "execution_count": 1,
   "id": "c884c537",
   "metadata": {},
   "outputs": [
    {
     "name": "stdout",
     "output_type": "stream",
     "text": [
      "saisir votre message à chiffrer : KHAOULA\n",
      "saisir le décalage que vous voulez : 3\n",
      "Le message après chiffrement : NKDRXOD\n",
      "Le message après le déchiffrement : KHAOULA\n"
     ]
    }
   ],
   "source": [
    "#Méthode de César\n",
    "\n",
    "alphabet = 'ABCDEFGHIJKLMNOPQRSTUVWXYZ'\n",
    "\n",
    "def chiffrer_cesar(msg, c):\n",
    "    msg_c = ''\n",
    "    for i in msg:\n",
    "        ordre = alphabet.find(i)\n",
    "        indice = ordre+c\n",
    "        if indice > 25:\n",
    "            indice = indice % 26\n",
    "        msg_c += alphabet[indice]\n",
    "    return msg_c\n",
    " \n",
    "def dechiffrer_cesar(msg, c):\n",
    "    msg_d = ''\n",
    "    for i in msg:\n",
    "        ordre = alphabet.find(i)\n",
    "        indice = ordre-c\n",
    "        if indice < 0:\n",
    "            indice = indice % 26\n",
    "        msg_d += alphabet[indice]\n",
    "    return msg_d\n",
    "\n",
    "msg = input(\"saisir votre message à chiffrer : \")\n",
    "c = int(input(\"saisir le décalage que vous voulez : \"))\n",
    "print(f\"Le message après chiffrement : {chiffrer_cesar(msg,c)}\")\n",
    "print(f\"Le message après le déchiffrement : {dechiffrer_cesar('NKDRXOD',c)}\")"
   ]
  },
  {
   "cell_type": "code",
   "execution_count": null,
   "id": "dc4dd28f",
   "metadata": {},
   "outputs": [],
   "source": []
  }
 ],
 "metadata": {
  "kernelspec": {
   "display_name": "Python 3",
   "language": "python",
   "name": "python3"
  },
  "language_info": {
   "codemirror_mode": {
    "name": "ipython",
    "version": 3
   },
   "file_extension": ".py",
   "mimetype": "text/x-python",
   "name": "python",
   "nbconvert_exporter": "python",
   "pygments_lexer": "ipython3",
   "version": "3.8.8"
  }
 },
 "nbformat": 4,
 "nbformat_minor": 5
}
